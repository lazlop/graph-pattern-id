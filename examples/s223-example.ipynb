{
 "cells": [
  {
   "cell_type": "markdown",
   "id": "2b60b59e",
   "metadata": {},
   "source": [
    "# Example Brick Model for process\n",
    "Example brick model will be 2 AHUs, 60 terminal units.\n",
    "Half are for perimeter zones vavs with reheat, half are for core zones and are cooling only \n",
    "\n",
    "10 core zone terminal units are for mechanical rooms, networking closets, and electrical rooms that must be served 24/7"
   ]
  },
  {
   "cell_type": "code",
   "execution_count": 2,
   "id": "956b32c2",
   "metadata": {},
   "outputs": [],
   "source": [
    "from rdflib import Namespace, URIRef, RDFS, Graph, Literal\n",
    "from buildingmotif import BuildingMOTIF\n",
    "from buildingmotif.dataclasses import Model, Library\n",
    "from buildingmotif.namespaces import BMOTIF, BRICK, A, RDF\n",
    "from buildingmotif.model_builder import TemplateBuilderContext"
   ]
  },
  {
   "cell_type": "code",
   "execution_count": 3,
   "id": "1b09afe3",
   "metadata": {},
   "outputs": [],
   "source": [
    "BLDG = Namespace(\"urn:example#\")\n",
    "bm = BuildingMOTIF(\"sqlite://\", \"topquadrant\")\n",
    "bldg = Model.create(\"urn:example#\")\n",
    "bldg.graph.bind('',BLDG)\n",
    "# brick = Library.load(ontology_graph=\"Brick.ttl\")"
   ]
  },
  {
   "cell_type": "code",
   "execution_count": 4,
   "id": "b6b95f0e",
   "metadata": {},
   "outputs": [],
   "source": [
    "s223_tmpl = Library.load(directory='s223-templates')"
   ]
  },
  {
   "cell_type": "code",
   "execution_count": 6,
   "id": "1d2ed453",
   "metadata": {},
   "outputs": [],
   "source": [
    "# bldg_config\n",
    "# assuming cooling+only and reheat vavs split evenly. Computer spaces are all in the cooling only vavs.\n",
    "# [ahus, cooling_only_vavs_per_ahu, reheat_vavs_per_ahu]\n",
    "# Could add amt computer spaces_per_ahu to building if it serves example later\n",
    "\n",
    "# the context helps us build up our model\n",
    "ctx = TemplateBuilderContext(BLDG)\n",
    "# ctx.add_templates_from_library(brick)\n",
    "ctx.add_templates_from_library(s223_tmpl)"
   ]
  },
  {
   "cell_type": "code",
   "execution_count": 9,
   "id": "2df5fc06",
   "metadata": {},
   "outputs": [],
   "source": [
    "# TODO: MESSED UP CODE FLOW, NOW NEED TO RUN AGAIN FROM HERE\n",
    "def get_wrapper_dict(ctx):\n",
    "    wrapper_dict = {}\n",
    "    for wrapper in ctx.wrappers:\n",
    "        if wrapper.template.name not in wrapper_dict.keys():\n",
    "            wrapper_dict[wrapper.template.name] = [wrapper]\n",
    "        else:\n",
    "            wrapper_dict[wrapper.template.name].append(wrapper)\n",
    "    return wrapper_dict"
   ]
  },
  {
   "cell_type": "code",
   "execution_count": 10,
   "id": "6471baa2",
   "metadata": {},
   "outputs": [
    {
     "name": "stdout",
     "output_type": "stream",
     "text": [
      "dict_keys([])\n"
     ]
    }
   ],
   "source": [
    "wrapper_dict = get_wrapper_dict(ctx)\n",
    "template_types = wrapper_dict.keys()\n",
    "print(template_types)"
   ]
  },
  {
   "cell_type": "code",
   "execution_count": 13,
   "id": "b208b30a",
   "metadata": {},
   "outputs": [],
   "source": [
    "g = Graph()\n",
    "g.bind('',BLDG)\n",
    "\n",
    "bldg_config = {'ahus': 1, 'cv': 1, 'hv': 1}\n",
    "bldg_ctx_dict = {}\n",
    "for i in range(bldg_config['ahus']):\n",
    "    template_name = 'multiple-zone-ahu'\n",
    "    ahu_name = f'ahu_{i}'\n",
    "    ahu = ctx[template_name](name=ahu_name)\n",
    "    ahu.bindings = {k: BLDG[f\"{template_name}_{k}_{i}\"] for k in ahu.parameters}\n",
    "    # display(ahu.bindings)\n",
    "    # also adding to condensed representation \n",
    "    for k,v in ahu.bindings.items():\n",
    "        g.add((BLDG[f\"{template_name}-{k.replace('name-','')}\"], RDF[f\"_{i+1}\"], v))\n",
    "    for cv in range(bldg_config['cv']):\n",
    "        template_name = 'vav-cooling-only'\n",
    "        cv_name = f'cvav_{i}_{cv}'\n",
    "        cvav = ctx[template_name](name=cv_name)\n",
    "        cvav.bindings = {k: BLDG[f\"{template_name}_{k}_{i}_{cv}\"] for k in cvav.parameters}\n",
    "        # ctx['feeds'](name = ahu['name'], target = cvav['name'])\n",
    "        for k,v in cvav.bindings.items():\n",
    "            g.add((BLDG[f\"{template_name}-{k.replace('name-','')}\"], RDF[f\"_{cv+1}\"], v))\n",
    "        # print(cvav.bindings)\n",
    "    for hv in range(bldg_config['hv']):\n",
    "        template_name = 'vav-reheat'\n",
    "        hv_name = f'hvav_{i}_{hv}'\n",
    "        hvav = ctx[template_name](name=hv_name)\n",
    "        hvav.bindings = {k: BLDG[f\"{template_name}_{k}_{i}_{hv}\"] for k in hvav.parameters}\n",
    "        # ctx['feeds'](name = ahu['name'], target = hvav['name'])\n",
    "        for k,v in hvav.bindings.items():\n",
    "            g.add((BLDG[f\"{template_name}-{k.replace('name-','')}\"], RDF[f\"_{hv+1}\"], v))\n",
    "\n",
    "wrapper_dict = get_wrapper_dict(ctx)\n",
    "template_types = wrapper_dict.keys()\n",
    "\n",
    "skip_templates = ['feeds']\n",
    "for tp in template_types:\n",
    "    if tp in skip_templates:\n",
    "        continue\n",
    "    for wrapper in wrapper_dict[tp]:\n",
    "        params = wrapper.parameters\n",
    "        eval_dict = {}\n",
    "        for param in params:\n",
    "            # if param not in TEMPLATE_PARAMS_COMPILED[tp].keys():\n",
    "            #     print(param)\n",
    "            # g.add((BLDG[f\"{tp}-{param.replace('name-','')}\"], A, BRICK[TEMPLATE_PARAMS_COMPILED[tp][param]]))\n",
    "            name = f\"{tp}-{param.replace('name-','')}\"\n",
    "            g.add((BLDG[name], A, RDF.Seq))\n",
    "            eval_dict[param] = BLDG[name]\n",
    "        template_graph = wrapper.template.evaluate(eval_dict)\n",
    "        if not isinstance(template_graph, Graph):\n",
    "            print('not a graph, cant add')\n",
    "        g = g + template_graph\n",
    "    # adding feeds manually \n",
    "    # g.add((BLDG['multiple-zone-ahu-name'], BRICK.feeds, BLDG['vav-cooling-only-name']))\n",
    "    # g.add((BLDG['multiple-zone-ahu-name'], BRICK.feeds, BLDG['vav-reheat-name']))"
   ]
  },
  {
   "cell_type": "code",
   "execution_count": 15,
   "id": "de13ef00",
   "metadata": {},
   "outputs": [
    {
     "data": {
      "text/plain": [
       "{'discharge-air-flow-sensor': rdflib.term.URIRef('urn:example#vav-cooling-only_discharge-air-flow-sensor_0_0'),\n",
       " 'out': rdflib.term.URIRef('urn:example#vav-cooling-only_out_0_0'),\n",
       " 'discharge-air-flow-setpoint': rdflib.term.URIRef('urn:example#vav-cooling-only_discharge-air-flow-setpoint_0_0'),\n",
       " 'damper-actuator': rdflib.term.URIRef('urn:example#vav-cooling-only_damper-actuator_0_0'),\n",
       " 'duct-before-damper': rdflib.term.URIRef('urn:example#vav-cooling-only_duct-before-damper_0_0'),\n",
       " 'damper': rdflib.term.URIRef('urn:example#vav-cooling-only_damper_0_0'),\n",
       " 'damper-position': rdflib.term.URIRef('urn:example#vav-cooling-only_damper-position_0_0'),\n",
       " 'out-connection': rdflib.term.URIRef('urn:example#vav-cooling-only_out-connection_0_0'),\n",
       " 'discharge-air-flow': rdflib.term.URIRef('urn:example#vav-cooling-only_discharge-air-flow_0_0'),\n",
       " 'damper-in-mapsto': rdflib.term.URIRef('urn:example#vav-cooling-only_damper-in-mapsto_0_0'),\n",
       " 'damper-out': rdflib.term.URIRef('urn:example#vav-cooling-only_damper-out_0_0'),\n",
       " 'name': rdflib.term.URIRef('urn:example#vav-cooling-only_name_0_0'),\n",
       " 'in-mapsto': rdflib.term.URIRef('urn:example#vav-cooling-only_in-mapsto_0_0'),\n",
       " 'out-mapsto': rdflib.term.URIRef('urn:example#vav-cooling-only_out-mapsto_0_0'),\n",
       " 'damper-in': rdflib.term.URIRef('urn:example#vav-cooling-only_damper-in_0_0'),\n",
       " 'in-connection': rdflib.term.URIRef('urn:example#vav-cooling-only_in-connection_0_0'),\n",
       " 'duct-after-damper': rdflib.term.URIRef('urn:example#vav-cooling-only_duct-after-damper_0_0'),\n",
       " 'damper-command': rdflib.term.URIRef('urn:example#vav-cooling-only_damper-command_0_0'),\n",
       " 'in': rdflib.term.URIRef('urn:example#vav-cooling-only_in_0_0'),\n",
       " 'damper-out-mapsto': rdflib.term.URIRef('urn:example#vav-cooling-only_damper-out-mapsto_0_0')}"
      ]
     },
     "execution_count": 15,
     "metadata": {},
     "output_type": "execute_result"
    }
   ],
   "source": [
    "cvav.bindings"
   ]
  },
  {
   "cell_type": "code",
   "execution_count": 19,
   "id": "dab49904",
   "metadata": {},
   "outputs": [
    {
     "data": {
      "text/plain": [
       "<Graph identifier=Nb53bc45c8adb4488bdc37fb2ac7836f6 (<class 'rdflib.graph.Graph'>)>"
      ]
     },
     "execution_count": 19,
     "metadata": {},
     "output_type": "execute_result"
    }
   ],
   "source": [
    "g.serialize('s223-example-groups.ttl', format = 'ttl')"
   ]
  },
  {
   "cell_type": "code",
   "execution_count": 20,
   "id": "85d5dc4a",
   "metadata": {},
   "outputs": [],
   "source": [
    "g_no_data = g.query(\"\"\"\n",
    "            CONSTRUCT {\n",
    "                   ?s ?p ?o .\n",
    "                    ?s a ?type .\n",
    "                    ?o a ?otype .\n",
    "            }\n",
    "            WHERE {\n",
    "            ?s ?p ?o .\n",
    "            ?s a ?type .\n",
    "            ?o a ?otype .\n",
    "            FILTER EXISTS {\n",
    "                    ?o a rdf:Seq .\n",
    "                }\n",
    "            FILTER (?type != rdf:Seq) .\n",
    "            \n",
    "            FILTER (?otype != rdf:Seq) .\n",
    "            }\n",
    "                   \"\"\").graph\n",
    "\n",
    "def get_label(s):\n",
    "    name= str(s).rsplit('-')[-1] if str(s).rsplit('-')[-1] != 'name' else str(s).rsplit('-')[-2]\n",
    "    return Literal(name)\n",
    "for s,p,o in g_no_data.triples((None,None,None)):    \n",
    "    if p == A:\n",
    "        continue               \n",
    "    if p == BRICK.hasPoint:\n",
    "        g_no_data.add((o, A, BRICK.Point))\n",
    "    g_no_data.add((s, RDFS.label, get_label(s)))\n",
    "    g_no_data.add((o, RDFS.label, get_label(o)))\n",
    "\n",
    "g_no_data.bind('bldg',BLDG)"
   ]
  },
  {
   "cell_type": "code",
   "execution_count": 21,
   "id": "9eb32953",
   "metadata": {},
   "outputs": [
    {
     "data": {
      "text/plain": [
       "<Graph identifier=N676e3f455f054499b8c5399661cac2a2 (<class 'rdflib.graph.Graph'>)>"
      ]
     },
     "execution_count": 21,
     "metadata": {},
     "output_type": "execute_result"
    }
   ],
   "source": [
    "g_no_data.serialize(\"s223-groups-nd.ttl\", format = 'ttl')"
   ]
  },
  {
   "cell_type": "code",
   "execution_count": 22,
   "id": "561ba5a9",
   "metadata": {},
   "outputs": [
    {
     "data": {
      "text/plain": [
       "<Graph identifier=6390405b-3b01-4304-9c27-2961ff0bef99 (<class 'rdflib.graph.Graph'>)>"
      ]
     },
     "execution_count": 22,
     "metadata": {},
     "output_type": "execute_result"
    }
   ],
   "source": [
    "bldg.add_graph(ctx.compile())\n",
    "bldg.graph.serialize('s223-example.ttl', format = 'ttl')"
   ]
  },
  {
   "cell_type": "code",
   "execution_count": null,
   "id": "3f4c4326",
   "metadata": {},
   "outputs": [],
   "source": []
  },
  {
   "cell_type": "code",
   "execution_count": null,
   "id": "7341da39",
   "metadata": {},
   "outputs": [],
   "source": []
  }
 ],
 "metadata": {
  "kernelspec": {
   "display_name": "graph-pattern-id (3.10.0)",
   "language": "python",
   "name": "python3"
  },
  "language_info": {
   "codemirror_mode": {
    "name": "ipython",
    "version": 3
   },
   "file_extension": ".py",
   "mimetype": "text/x-python",
   "name": "python",
   "nbconvert_exporter": "python",
   "pygments_lexer": "ipython3",
   "version": "3.10.0"
  }
 },
 "nbformat": 4,
 "nbformat_minor": 5
}
