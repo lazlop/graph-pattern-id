{
 "cells": [
  {
   "cell_type": "markdown",
   "id": "2b60b59e",
   "metadata": {},
   "source": [
    "# Example Brick Model for process\n",
    "Example brick model will be 2 AHUs, 60 terminal units.\n",
    "Half are for perimeter zones vavs with reheat, half are for core zones and are cooling only \n",
    "\n",
    "10 core zone terminal units are for mechanical rooms, networking closets, and electrical rooms that must be served 24/7"
   ]
  },
  {
   "cell_type": "code",
   "execution_count": 1,
   "id": "956b32c2",
   "metadata": {},
   "outputs": [],
   "source": [
    "from rdflib import Namespace, URIRef, RDFS\n",
    "from buildingmotif import BuildingMOTIF\n",
    "from buildingmotif.dataclasses import Model, Library\n",
    "from buildingmotif.namespaces import BMOTIF, BRICK\n",
    "from buildingmotif.model_builder import TemplateBuilderContext"
   ]
  },
  {
   "cell_type": "code",
   "execution_count": 2,
   "id": "1b09afe3",
   "metadata": {},
   "outputs": [
    {
     "name": "stderr",
     "output_type": "stream",
     "text": [
      "2025-07-03 11:13:24,515 | root |  WARNING: An ontology could not resolve a dependency on http://qudt.org/2.1/vocab/prefix (Name: http://qudt.org/2.1/vocab/prefix). Check this is loaded into BuildingMOTIF\n",
      "2025-07-03 11:13:24,516 | root |  WARNING: An ontology could not resolve a dependency on http://data.ashrae.org/bacnet/2020 (Name: http://data.ashrae.org/bacnet/2020). Check this is loaded into BuildingMOTIF\n",
      "2025-07-03 11:13:24,517 | root |  WARNING: An ontology could not resolve a dependency on https://w3id.org/rec/recimports (Name: https://w3id.org/rec/recimports). Check this is loaded into BuildingMOTIF\n",
      "2025-07-03 11:13:24,518 | root |  WARNING: An ontology could not resolve a dependency on http://qudt.org/2.1/schema/shacl/qudt (Name: http://qudt.org/2.1/schema/shacl/qudt). Check this is loaded into BuildingMOTIF\n",
      "2025-07-03 11:13:24,519 | root |  WARNING: An ontology could not resolve a dependency on http://qudt.org/2.1/vocab/unit (Name: http://qudt.org/2.1/vocab/unit). Check this is loaded into BuildingMOTIF\n",
      "2025-07-03 11:13:24,520 | root |  WARNING: An ontology could not resolve a dependency on https://brickschema.org/schema/Brick/ref (Name: https://brickschema.org/schema/Brick/ref). Check this is loaded into BuildingMOTIF\n",
      "2025-07-03 11:13:24,520 | root |  WARNING: An ontology could not resolve a dependency on http://qudt.org/2.1/collection/usertest (Name: http://qudt.org/2.1/collection/usertest). Check this is loaded into BuildingMOTIF\n",
      "2025-07-03 11:13:24,521 | root |  WARNING: An ontology could not resolve a dependency on https://w3id.org/rec (Name: https://w3id.org/rec). Check this is loaded into BuildingMOTIF\n",
      "2025-07-03 11:13:24,521 | root |  WARNING: An ontology could not resolve a dependency on http://qudt.org/2.1/vocab/sou (Name: http://qudt.org/2.1/vocab/sou). Check this is loaded into BuildingMOTIF\n",
      "2025-07-03 11:13:24,522 | root |  WARNING: An ontology could not resolve a dependency on http://qudt.org/2.1/schema/shacl/overlay/qudt (Name: http://qudt.org/2.1/schema/shacl/overlay/qudt). Check this is loaded into BuildingMOTIF\n",
      "2025-07-03 11:13:24,522 | root |  WARNING: An ontology could not resolve a dependency on http://qudt.org/2.1/vocab/quantitykind (Name: http://qudt.org/2.1/vocab/quantitykind). Check this is loaded into BuildingMOTIF\n",
      "2025-07-03 11:13:24,523 | root |  WARNING: An ontology could not resolve a dependency on http://qudt.org/2.1/vocab/dimensionvector (Name: http://qudt.org/2.1/vocab/dimensionvector). Check this is loaded into BuildingMOTIF\n",
      "2025-07-03 11:13:24,523 | root |  WARNING: An ontology could not resolve a dependency on http://qudt.org/2.1/schema/facade/qudt (Name: http://qudt.org/2.1/schema/facade/qudt). Check this is loaded into BuildingMOTIF\n"
     ]
    }
   ],
   "source": [
    "BLDG = Namespace(\"urn:example#\")\n",
    "bm = BuildingMOTIF(\"sqlite://\", \"topquadrant\")\n",
    "bldg = Model.create(\"urn:example#\")\n",
    "bldg.graph.bind('',BLDG)\n",
    "brick = Library.load(ontology_graph=\"Brick.ttl\")"
   ]
  },
  {
   "cell_type": "code",
   "execution_count": 3,
   "id": "b6b95f0e",
   "metadata": {},
   "outputs": [],
   "source": [
    "brick_tmpl = Library.load(directory='brick-templates')"
   ]
  },
  {
   "cell_type": "code",
   "execution_count": 4,
   "id": "1d2ed453",
   "metadata": {},
   "outputs": [],
   "source": [
    "# bldg_config\n",
    "# assuming cooling+only and reheat vavs split evenly. Computer spaces are all in the cooling only vavs.\n",
    "# [ahus, cooling_only_vavs, reheat_vavs, amt computer spaces]\n",
    "\n",
    "# the context helps us build up our model\n",
    "ctx = TemplateBuilderContext(BLDG)\n",
    "ctx.add_templates_from_library(brick)\n",
    "ctx.add_templates_from_library(brick_tmpl)"
   ]
  },
  {
   "cell_type": "code",
   "execution_count": 5,
   "id": "f88c11c0",
   "metadata": {},
   "outputs": [],
   "source": [
    "# start with the tank. This instantiates the template with 'my_tank' as the name\n",
    "# You can assign other parameters here as well. If the value you give to a parameter\n",
    "# is a string (e.g. 'my_tank') then the builder will automatically make a URL with the BLDG (see cell above) as the namespace\n",
    "ahu = ctx['multiple-zone-ahu'](name='ahu1')\n",
    "\n",
    "# # now create an instance of the water flow property\n",
    "# flow_prop = ctx['water-flow'](name='tank_outlet_water_flow')\n",
    "# flow_prop['name-owner'] = my_tank['out']\n",
    "# # now create the sensor\n",
    "# flow_sensor = ctx['sensor'](name='my_flow_sensor')\n",
    "# flow_sensor['where'] = my_tank['out'] # the sensor measures at the outlet of the tank\n",
    "# flow_sensor['property'] = flow_prop['name'] # associate the sensor's \"property\" param with the flow property"
   ]
  },
  {
   "cell_type": "code",
   "execution_count": 6,
   "id": "5669029a",
   "metadata": {},
   "outputs": [],
   "source": [
    "vav = ctx['vav-cooling-only'](name='vav1')\n",
    "feeds = ctx['feeds'](name = ahu['name'], target = vav['name'])"
   ]
  },
  {
   "cell_type": "code",
   "execution_count": 7,
   "id": "b5959806",
   "metadata": {},
   "outputs": [
    {
     "name": "stderr",
     "output_type": "stream",
     "text": [
      "/Users/lazlopaul/Desktop/223p/experiments/graph-pattern-id/.venv/lib/python3.10/site-packages/buildingmotif/dataclasses/template.py:420: UserWarning: Parameters \"sa_fan-speed, ma_temp, htg_coil-valve_cmd, ra_temp, htg_coil, oa_temp, filter_pd, sa_fan-status, ra_damper, sa_fan, clg_coil, ra_damper-dmppos, sa_temp, sa_fan-start_stop, clg_coil-valve_cmd\" were not provided during evaluation\n",
      "  warnings.warn(\n",
      "/Users/lazlopaul/Desktop/223p/experiments/graph-pattern-id/.venv/lib/python3.10/site-packages/buildingmotif/dataclasses/template.py:420: UserWarning: Parameters \"dat, zone, dmp-dmppos, occ, co2, dmp, ztemp\" were not provided during evaluation\n",
      "  warnings.warn(\n"
     ]
    }
   ],
   "source": [
    "bldg.add_graph(ctx.compile())"
   ]
  },
  {
   "cell_type": "code",
   "execution_count": 8,
   "id": "b4c3965a",
   "metadata": {},
   "outputs": [
    {
     "name": "stdout",
     "output_type": "stream",
     "text": [
      "@prefix : <urn:example#> .\n",
      "@prefix brick: <https://brickschema.org/schema/Brick#> .\n",
      "@prefix owl: <http://www.w3.org/2002/07/owl#> .\n",
      "@prefix rdfs: <http://www.w3.org/2000/01/rdf-schema#> .\n",
      "\n",
      ": a owl:Ontology .\n",
      "\n",
      ":ahu1 a brick:AHU ;\n",
      "    rdfs:label \"AHU\" ;\n",
      "    brick:feeds :vav1 ;\n",
      "    brick:hasPart :clg_coil_627885dc,\n",
      "        :htg_coil_b855e053,\n",
      "        :ra_damper_0285ccf7,\n",
      "        :sa_fan_e6f07b08 ;\n",
      "    brick:hasPoint :oa_temp_38e41ad2,\n",
      "        :sa_temp_6d131da9 .\n",
      "\n",
      ":clg_coil-valve_cmd_7f6985de a brick:Valve_Position_Command ;\n",
      "    rdfs:label \"Valve_Position_Command\" .\n",
      "\n",
      ":clg_coil_627885dc a brick:Cooling_Coil ;\n",
      "    rdfs:label \"Cooling_Coil\" ;\n",
      "    brick:hasPoint :clg_coil-valve_cmd_7f6985de .\n",
      "\n",
      ":dat_35b92ca0 a brick:Discharge_Air_Temperature_Sensor ;\n",
      "    rdfs:label \"Discharge_Air_Temperature_Sensor\" .\n",
      "\n",
      ":dmp-dmppos_538244b8 a brick:Damper_Position_Command ;\n",
      "    rdfs:label \"Damper_Position_Command\" .\n",
      "\n",
      ":dmp_b7eff8f1 a brick:Damper ;\n",
      "    rdfs:label \"Damper\" ;\n",
      "    brick:hasPoint :dmp-dmppos_538244b8 .\n",
      "\n",
      ":htg_coil-valve_cmd_aef238ce a brick:Valve_Position_Command ;\n",
      "    rdfs:label \"Valve_Position_Command\" .\n",
      "\n",
      ":htg_coil_b855e053 a brick:Heating_Coil ;\n",
      "    rdfs:label \"Heating_Coil\" ;\n",
      "    brick:hasPoint :htg_coil-valve_cmd_aef238ce .\n",
      "\n",
      ":oa_temp_38e41ad2 a brick:Outside_Air_Temperature_Sensor ;\n",
      "    rdfs:label \"Outside_Air_Temperature_Sensor\" .\n",
      "\n",
      ":ra_damper-dmppos_da4d0318 a brick:Damper_Position_Command ;\n",
      "    rdfs:label \"Damper_Position_Command\" .\n",
      "\n",
      ":ra_damper_0285ccf7 a brick:Damper ;\n",
      "    rdfs:label \"Damper\" ;\n",
      "    brick:hasPoint :ra_damper-dmppos_da4d0318 .\n",
      "\n",
      ":sa_fan-speed_543b8ba0 a brick:Frequency_Command ;\n",
      "    rdfs:label \"Frequency_Command\" .\n",
      "\n",
      ":sa_fan-start_stop_bd13a8e5 a brick:Start_Stop_Command ;\n",
      "    rdfs:label \"Start_Stop_Command\" .\n",
      "\n",
      ":sa_fan_e6f07b08 a brick:Supply_Fan ;\n",
      "    rdfs:label \"Supply_Fan\" ;\n",
      "    brick:hasPoint :sa_fan-speed_543b8ba0,\n",
      "        :sa_fan-start_stop_bd13a8e5 .\n",
      "\n",
      ":sa_temp_6d131da9 a brick:Supply_Air_Temperature_Sensor ;\n",
      "    rdfs:label \"Supply_Air_Temperature_Sensor\" .\n",
      "\n",
      ":vav1 a brick:VAV ;\n",
      "    rdfs:label \"VAV\" ;\n",
      "    brick:feeds :zone_4b8f0cf5 ;\n",
      "    brick:hasPart :dmp_b7eff8f1 ;\n",
      "    brick:hasPoint :dat_35b92ca0,\n",
      "        :ztemp_572680e2 .\n",
      "\n",
      ":zone_4b8f0cf5 a brick:HVAC_Zone ;\n",
      "    rdfs:label \"HVAC_Zone\" .\n",
      "\n",
      ":ztemp_572680e2 a brick:Zone_Air_Temperature_Sensor ;\n",
      "    rdfs:label \"Zone_Air_Temperature_Sensor\" .\n",
      "\n",
      "\n"
     ]
    }
   ],
   "source": [
    "print(bldg.graph.serialize(format='ttl'))"
   ]
  },
  {
   "cell_type": "code",
   "execution_count": 9,
   "id": "9b931469",
   "metadata": {},
   "outputs": [
    {
     "data": {
      "text/plain": [
       "<Graph identifier=a2241a23-cfa5-4f9d-9f7e-8f93a1131505 (<class 'rdflib.graph.Graph'>)>"
      ]
     },
     "execution_count": 9,
     "metadata": {},
     "output_type": "execute_result"
    }
   ],
   "source": [
    "bldg.graph.serialize('brick-example.ttl', format = 'ttl')"
   ]
  },
  {
   "cell_type": "code",
   "execution_count": null,
   "id": "8fa9a801",
   "metadata": {},
   "outputs": [],
   "source": []
  }
 ],
 "metadata": {
  "kernelspec": {
   "display_name": ".venv (3.10.0)",
   "language": "python",
   "name": "python3"
  },
  "language_info": {
   "codemirror_mode": {
    "name": "ipython",
    "version": 3
   },
   "file_extension": ".py",
   "mimetype": "text/x-python",
   "name": "python",
   "nbconvert_exporter": "python",
   "pygments_lexer": "ipython3",
   "version": "3.10.0"
  }
 },
 "nbformat": 4,
 "nbformat_minor": 5
}
