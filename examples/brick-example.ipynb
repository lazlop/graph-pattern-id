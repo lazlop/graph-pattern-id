{
 "cells": [
  {
   "cell_type": "markdown",
   "id": "2b60b59e",
   "metadata": {},
   "source": [
    "# Example Brick Model for process\n",
    "Example brick model will be 2 AHUs, 60 terminal units.\n",
    "Half are for perimeter zones vavs with reheat, half are for core zones and are cooling only \n",
    "\n",
    "10 core zone terminal units are for mechanical rooms, networking closets, and electrical rooms that must be served 24/7"
   ]
  },
  {
   "cell_type": "code",
   "execution_count": 58,
   "id": "956b32c2",
   "metadata": {},
   "outputs": [],
   "source": [
    "from rdflib import Namespace, URIRef, RDFS, Graph, Literal\n",
    "from buildingmotif import BuildingMOTIF\n",
    "from buildingmotif.dataclasses import Model, Library\n",
    "from buildingmotif.namespaces import BMOTIF, BRICK, A, RDF\n",
    "from buildingmotif.model_builder import TemplateBuilderContext"
   ]
  },
  {
   "cell_type": "code",
   "execution_count": 2,
   "id": "1b09afe3",
   "metadata": {},
   "outputs": [
    {
     "name": "stderr",
     "output_type": "stream",
     "text": [
      "2025-07-06 13:34:43,295 | root |  WARNING: An ontology could not resolve a dependency on http://qudt.org/2.1/vocab/sou (Name: http://qudt.org/2.1/vocab/sou). Check this is loaded into BuildingMOTIF\n",
      "2025-07-06 13:34:43,296 | root |  WARNING: An ontology could not resolve a dependency on https://w3id.org/rec (Name: https://w3id.org/rec). Check this is loaded into BuildingMOTIF\n",
      "2025-07-06 13:34:43,296 | root |  WARNING: An ontology could not resolve a dependency on https://w3id.org/rec/recimports (Name: https://w3id.org/rec/recimports). Check this is loaded into BuildingMOTIF\n",
      "2025-07-06 13:34:43,297 | root |  WARNING: An ontology could not resolve a dependency on http://qudt.org/2.1/schema/shacl/overlay/qudt (Name: http://qudt.org/2.1/schema/shacl/overlay/qudt). Check this is loaded into BuildingMOTIF\n",
      "2025-07-06 13:34:43,297 | root |  WARNING: An ontology could not resolve a dependency on http://qudt.org/2.1/vocab/prefix (Name: http://qudt.org/2.1/vocab/prefix). Check this is loaded into BuildingMOTIF\n",
      "2025-07-06 13:34:43,298 | root |  WARNING: An ontology could not resolve a dependency on http://data.ashrae.org/bacnet/2020 (Name: http://data.ashrae.org/bacnet/2020). Check this is loaded into BuildingMOTIF\n",
      "2025-07-06 13:34:43,298 | root |  WARNING: An ontology could not resolve a dependency on http://qudt.org/2.1/schema/facade/qudt (Name: http://qudt.org/2.1/schema/facade/qudt). Check this is loaded into BuildingMOTIF\n",
      "2025-07-06 13:34:43,299 | root |  WARNING: An ontology could not resolve a dependency on http://qudt.org/2.1/schema/shacl/qudt (Name: http://qudt.org/2.1/schema/shacl/qudt). Check this is loaded into BuildingMOTIF\n",
      "2025-07-06 13:34:43,299 | root |  WARNING: An ontology could not resolve a dependency on http://qudt.org/2.1/vocab/quantitykind (Name: http://qudt.org/2.1/vocab/quantitykind). Check this is loaded into BuildingMOTIF\n",
      "2025-07-06 13:34:43,300 | root |  WARNING: An ontology could not resolve a dependency on http://qudt.org/2.1/collection/usertest (Name: http://qudt.org/2.1/collection/usertest). Check this is loaded into BuildingMOTIF\n",
      "2025-07-06 13:34:43,300 | root |  WARNING: An ontology could not resolve a dependency on http://qudt.org/2.1/vocab/dimensionvector (Name: http://qudt.org/2.1/vocab/dimensionvector). Check this is loaded into BuildingMOTIF\n",
      "2025-07-06 13:34:43,300 | root |  WARNING: An ontology could not resolve a dependency on http://qudt.org/2.1/vocab/unit (Name: http://qudt.org/2.1/vocab/unit). Check this is loaded into BuildingMOTIF\n",
      "2025-07-06 13:34:43,301 | root |  WARNING: An ontology could not resolve a dependency on https://brickschema.org/schema/Brick/ref (Name: https://brickschema.org/schema/Brick/ref). Check this is loaded into BuildingMOTIF\n"
     ]
    }
   ],
   "source": [
    "BLDG = Namespace(\"urn:example#\")\n",
    "bm = BuildingMOTIF(\"sqlite://\", \"topquadrant\")\n",
    "bldg = Model.create(\"urn:example#\")\n",
    "bldg.graph.bind('',BLDG)\n",
    "brick = Library.load(ontology_graph=\"Brick.ttl\")"
   ]
  },
  {
   "cell_type": "code",
   "execution_count": 3,
   "id": "b6b95f0e",
   "metadata": {},
   "outputs": [],
   "source": [
    "brick_tmpl = Library.load(directory='brick-templates')"
   ]
  },
  {
   "cell_type": "code",
   "execution_count": 4,
   "id": "f88c11c0",
   "metadata": {},
   "outputs": [],
   "source": [
    "# start with the tank. This instantiates the template with 'my_tank' as the name\n",
    "# You can assign other parameters here as well. If the value you give to a parameter\n",
    "# is a string (e.g. 'my_tank') then the builder will automatically make a URL with the BLDG (see cell above) as the namespace\n",
    "# ahu = ctx['multiple-zone-ahu'](name='ahu1')\n",
    "# # now create an instance of the water flow property\n",
    "# flow_prop = ctx['water-flow'](name='tank_outlet_water_flow')\n",
    "# flow_prop['name-owner'] = my_tank['out']\n",
    "# # now create the sensor\n",
    "# flow_sensor = ctx['sensor'](name='my_flow_sensor')\n",
    "# flow_sensor['where'] = my_tank['out'] # the sensor measures at the outlet of the tank\n",
    "# flow_sensor['property'] = flow_prop['name'] # associate the sensor's \"property\" param with the flow property"
   ]
  },
  {
   "cell_type": "code",
   "execution_count": 5,
   "id": "1d2ed453",
   "metadata": {},
   "outputs": [],
   "source": [
    "# bldg_config\n",
    "# assuming cooling+only and reheat vavs split evenly. Computer spaces are all in the cooling only vavs.\n",
    "# [ahus, cooling_only_vavs_per_ahu, reheat_vavs_per_ahu]\n",
    "# Could add amt computer spaces_per_ahu to building if it serves example later\n",
    "\n",
    "# the context helps us build up our model\n",
    "ctx = TemplateBuilderContext(BLDG)\n",
    "ctx.add_templates_from_library(brick)\n",
    "ctx.add_templates_from_library(brick_tmpl)"
   ]
  },
  {
   "cell_type": "code",
   "execution_count": 6,
   "id": "13469c46",
   "metadata": {},
   "outputs": [],
   "source": [
    "# preparing both representations "
   ]
  },
  {
   "cell_type": "code",
   "execution_count": 7,
   "id": "5669029a",
   "metadata": {},
   "outputs": [],
   "source": [
    "# bldg_config = {'ahus': 2, 'cv': 10, 'hv': 10}\n",
    "# bldg_ctx_dict = {}\n",
    "# for i in range(bldg_config['ahus']):\n",
    "#     ahu_name = f'ahu_{i}'\n",
    "#     # bldg_ctx_dict[name] = ctx['multiple-zone-ahu'](name=name)\n",
    "#     ahu = ctx['multiple-zone-ahu'](name=ahu_name)\n",
    "#     for cv in range(bldg_config['cv']):\n",
    "#         cv_name = f'cvav_{i}_{cv}'\n",
    "#         cvav = ctx['vav-cooling-only'](name=cv_name)\n",
    "#         ctx['feeds'](name = ahu['name'], target = cvav['name'])\n",
    "#     for hv in range(bldg_config['hv']):\n",
    "#         hv_name = f'hvav_{i}_{hv}'\n",
    "#         hvav = ctx['vav-with-reheat'](name=hv_name)\n",
    "#         ctx['feeds'](name = ahu['name'], target = hvav['name'])"
   ]
  },
  {
   "cell_type": "code",
   "execution_count": 8,
   "id": "2df5fc06",
   "metadata": {},
   "outputs": [],
   "source": [
    "# TODO: MESSED UP CODE FLOW, NOW NEED TO RUN AGAIN FROM HERE\n",
    "def get_wrapper_dict(ctx):\n",
    "    wrapper_dict = {}\n",
    "    for wrapper in ctx.wrappers:\n",
    "        if wrapper.template.name not in wrapper_dict.keys():\n",
    "            wrapper_dict[wrapper.template.name] = [wrapper]\n",
    "        else:\n",
    "            wrapper_dict[wrapper.template.name].append(wrapper)\n",
    "    return wrapper_dict"
   ]
  },
  {
   "cell_type": "code",
   "execution_count": 9,
   "id": "6471baa2",
   "metadata": {},
   "outputs": [
    {
     "name": "stdout",
     "output_type": "stream",
     "text": [
      "dict_keys([])\n"
     ]
    }
   ],
   "source": [
    "wrapper_dict = get_wrapper_dict(ctx)\n",
    "template_types = wrapper_dict.keys()\n",
    "print(template_types)"
   ]
  },
  {
   "cell_type": "code",
   "execution_count": 10,
   "id": "42029b0a",
   "metadata": {},
   "outputs": [],
   "source": [
    "TEMPLATE_PARAMS_COMPILED = {\n",
    "    \"vav-cooling-only\": {\n",
    "        \"name\": \"VAV\",\n",
    "        \"ztemp\": \"Zone_Air_Temperature_Sensor\",\n",
    "        \"occ\": \"Occupancy_Sensor\",           # optional\n",
    "        \"co2\": \"CO2_Level_Sensor\",           # optional\n",
    "        \"dat\": \"Discharge_Air_Temperature_Sensor\",\n",
    "        \"dmp\": \"Damper\",\n",
    "        \"dmp-dmppos\": \"Damper_Position_Command\",\n",
    "        \"zone\": \"HVAC_Zone\"\n",
    "    },\n",
    "    \"vav-with-reheat\": {\n",
    "        \"name\": \"VAV\",\n",
    "        \"name-ztemp\": \"Zone_Air_Temperature_Sensor\",\n",
    "        \"name-occ\": \"Occupancy_Sensor\",           # optional\n",
    "        \"name-co2\": \"CO2_Level_Sensor\",           # optional\n",
    "        \"name-dat\": \"Discharge_Air_Temperature_Sensor\",\n",
    "        \"name-dmp\": \"Damper\",\n",
    "        \"name-dmp-dmppos\": \"Damper_Position_Command\",\n",
    "        \"name-zone\": \"HVAC_Zone\",\n",
    "        \"rhc\": \"Heating_Coil\",\n",
    "        \"rhc-cmd\": \"Position_Command\"\n",
    "    },\n",
    "    \"multiple-zone-ahu\": {\n",
    "        \"name\": \"AHU\",\n",
    "        \"sa_fan\": \"Supply_Fan\",\n",
    "        \"sa_fan-start_stop\": \"Start_Stop_Command\",\n",
    "        \"sa_fan-speed\": \"Frequency_Command\",\n",
    "        \"sa_fan-status\": \"Fan_Status\",       # optional\n",
    "        \"ra_damper\": \"Damper\",\n",
    "        \"ra_damper-dmppos\": \"Damper_Position_Command\",\n",
    "        \"clg_coil\": \"Cooling_Coil\",\n",
    "        \"clg_coil-valve_cmd\": \"Valve_Position_Command\",\n",
    "        \"htg_coil\": \"Heating_Coil\",\n",
    "        \"htg_coil-valve_cmd\": \"Valve_Position_Command\",\n",
    "        \"sa_temp\": \"Supply_Air_Temperature_Sensor\",\n",
    "        \"oa_temp\": \"Outside_Air_Temperature_Sensor\",\n",
    "        \"ma_temp\": \"Mixed_Air_Temperature_Sensor\",    # optional\n",
    "        \"ra_temp\": \"Return_Air_Temperature_Sensor\",   # optional\n",
    "        \"filter_pd\": \"Filter_Differential_Pressure_Sensor\"  # optional\n",
    "    },\n",
    "    \"with-relief-damper\": {\n",
    "        \"name\": \"AHU\",   # composed on the AHU's 'name'\n",
    "        \"relief-fan\": \"Exhaust_Fan\",\n",
    "        \"relief-damper\": \"Damper\",\n",
    "        \"relief-damper-dmppos\": \"Damper_Position_Command\",\n",
    "        \"relief-damper\": \"Exhaust_Damper\",\n",
    "        \"sp-sensor\": \"Static_Pressure_Sensor\"   # optional\n",
    "    },\n",
    "    \"with-return-fan\": {\n",
    "        \"name\": \"AHU\",   # composed on the AHU's 'name'\n",
    "        \"return-fan\": \"Return_Fan\",\n",
    "        \"relief-damper\": \"Damper\",\n",
    "        \"relief-damper-dmppos\": \"Damper_Position_Command\",\n",
    "        \"relief-damper\": \"Exhaust_Damper\",\n",
    "        \"sp-sensor\": \"Static_Pressure_Sensor\",          # optional\n",
    "        \"supply-air-flow\": \"Supply_Air_Flow_Sensor\",    # optional\n",
    "        \"return-air-flow\": \"Return_Air_Flow_Sensor\"     # optional\n",
    "    },\n",
    "    \"relief-fan\": {\n",
    "        \"name\": \"Exhaust_Fan\"\n",
    "    },\n",
    "    \"return-fan\": {\n",
    "        \"name\": \"Return_Fan\"\n",
    "    },\n",
    "    \"fan\": {\n",
    "        \"name\": \"Fan\",\n",
    "        \"speed\": \"Frequency_Command\",\n",
    "        \"start_stop\": \"Start_Stop_Command\",\n",
    "        \"status\": \"Fan_Status\"\n",
    "    },\n",
    "    \"damper\": {\n",
    "        \"name\": \"Damper\",\n",
    "        \"dmppos\": \"Damper_Position_Command\"\n",
    "    },\n",
    "    \"heating-coil\": {\n",
    "        \"name\": \"Heating_Coil\",\n",
    "        \"cmd\": \"Position_Command\"\n",
    "    },\n",
    "    \"sa_fan\": {\n",
    "        \"name\": \"Supply_Fan\",\n",
    "        \"start_stop\": \"Start_Stop_Command\",\n",
    "        \"speed\": \"Frequency_Command\",\n",
    "        \"status\": \"Fan_Status\"   # optional\n",
    "    },\n",
    "    \"clg_coil\": {\n",
    "        \"name\": \"Cooling_Coil\",\n",
    "        \"valve_cmd\": \"Valve_Position_Command\"\n",
    "    },\n",
    "    \"htg_coil\": {\n",
    "        \"name\": \"Heating_Coil\",\n",
    "        \"valve_cmd\": \"Valve_Position_Command\"\n",
    "    },\n",
    "    \"feeds\": {\n",
    "        \"name\": None,    # The subject of the feeds relation (type depends on context)\n",
    "        \"target\": None   # The object of the feeds relation (type depends on context)\n",
    "    }\n",
    "}"
   ]
  },
  {
   "cell_type": "code",
   "execution_count": null,
   "id": "b208b30a",
   "metadata": {},
   "outputs": [],
   "source": [
    "g = Graph()\n",
    "g.bind('',BLDG)\n",
    "\n",
    "bldg_config = {'ahus': 2, 'cv': 30, 'hv': 30}\n",
    "bldg_ctx_dict = {}\n",
    "for i in range(bldg_config['ahus']):\n",
    "    template_name = 'multiple-zone-ahu'\n",
    "    ahu_name = f'ahu_{i}'\n",
    "    ahu = ctx[template_name](name=ahu_name)\n",
    "    ahu.bindings = {k: BLDG[f\"{template_name}_{k}_{i}\"] for k in ahu.parameters}\n",
    "    # display(ahu.bindings)\n",
    "    # also adding to condensed representation \n",
    "    for k,v in ahu.bindings.items():\n",
    "        g.add((BLDG[f\"{template_name}-{k.replace('name-','')}\"], RDF[f\"_{i+1}\"], v))\n",
    "    for cv in range(bldg_config['cv']):\n",
    "        template_name = 'vav-cooling-only'\n",
    "        cv_name = f'cvav_{i}_{cv}'\n",
    "        cvav = ctx[template_name](name=cv_name)\n",
    "        cvav.bindings = {k: BLDG[f\"{template_name}_{k}_{i}_{cv}\"] for k in cvav.parameters}\n",
    "        ctx['feeds'](name = ahu['name'], target = cvav['name'])\n",
    "        for k,v in cvav.bindings.items():\n",
    "            g.add((BLDG[f\"{template_name}-{k.replace('name-','')}\"], RDF[f\"_{cv+1}\"], v))\n",
    "        # print(cvav.bindings)\n",
    "    for hv in range(bldg_config['hv']):\n",
    "        template_name = 'vav-with-reheat'\n",
    "        hv_name = f'hvav_{i}_{hv}'\n",
    "        hvav = ctx[template_name](name=hv_name)\n",
    "        hvav.bindings = {k: BLDG[f\"{template_name}_{k}_{i}_{hv}\"] for k in hvav.parameters}\n",
    "        ctx['feeds'](name = ahu['name'], target = hvav['name'])\n",
    "        for k,v in hvav.bindings.items():\n",
    "            g.add((BLDG[f\"{template_name}-{k.replace('name-','')}\"], RDF[f\"_{hv+1}\"], v))\n",
    "\n",
    "wrapper_dict = get_wrapper_dict(ctx)\n",
    "template_types = wrapper_dict.keys()\n",
    "\n",
    "skip_templates = ['feeds']\n",
    "for tp in template_types:\n",
    "    if tp in skip_templates:\n",
    "        continue\n",
    "    for wrapper in wrapper_dict[tp]:\n",
    "        params = wrapper.parameters\n",
    "        eval_dict = {}\n",
    "        for param in params:\n",
    "            # if param not in TEMPLATE_PARAMS_COMPILED[tp].keys():\n",
    "            #     print(param)\n",
    "            # g.add((BLDG[f\"{tp}-{param.replace('name-','')}\"], A, BRICK[TEMPLATE_PARAMS_COMPILED[tp][param]]))\n",
    "            name = f\"{tp}-{param.replace('name-','')}\"\n",
    "            g.add((BLDG[name], A, RDF.Seq))\n",
    "            eval_dict[param] = BLDG[name]\n",
    "        template_graph = wrapper.template.evaluate(eval_dict)\n",
    "        if not isinstance(template_graph, Graph):\n",
    "            print('not a graph, cant add')\n",
    "        g = g + template_graph\n",
    "    # adding feeds manually \n",
    "    g.add((BLDG['multiple-zone-ahu-name'], BRICK.feeds, BLDG['vav-cooling-only-name']))\n",
    "    g.add((BLDG['multiple-zone-ahu-name'], BRICK.feeds, BLDG['vav-with-reheat-name']))"
   ]
  },
  {
   "cell_type": "code",
   "execution_count": 21,
   "id": "dab49904",
   "metadata": {},
   "outputs": [
    {
     "data": {
      "text/plain": [
       "<Graph identifier=Ne87640ca464a47dab6d949aa0bb82e1f (<class 'rdflib.graph.Graph'>)>"
      ]
     },
     "execution_count": 21,
     "metadata": {},
     "output_type": "execute_result"
    }
   ],
   "source": [
    "g.serialize('brick-example-groups.ttl', format = 'ttl')"
   ]
  },
  {
   "cell_type": "code",
   "execution_count": 77,
   "id": "85d5dc4a",
   "metadata": {},
   "outputs": [],
   "source": [
    "g_no_data = g.query(\"\"\"\n",
    "            CONSTRUCT {\n",
    "                   ?s ?p ?o .\n",
    "                    ?s a ?type .\n",
    "                    ?o a ?otype .\n",
    "            }\n",
    "            WHERE {\n",
    "            ?s ?p ?o .\n",
    "            ?s a ?type .\n",
    "            ?o a ?otype .\n",
    "            FILTER EXISTS {\n",
    "                    ?o a rdf:Seq .\n",
    "                }\n",
    "            FILTER (?type != rdf:Seq) .\n",
    "            \n",
    "            FILTER (?otype != rdf:Seq) .\n",
    "            }\n",
    "                   \"\"\").graph\n",
    "\n",
    "def get_label(s):\n",
    "    name= str(s).rsplit('-')[-1] if str(s).rsplit('-')[-1] != 'name' else str(s).rsplit('-')[-2]\n",
    "    return Literal(name)\n",
    "for s,p,o in g_no_data.triples((None,None,None)):    \n",
    "    if p == A:\n",
    "        continue               \n",
    "    if p == BRICK.hasPoint:\n",
    "        g_no_data.add((o, A, BRICK.Point))\n",
    "    g_no_data.add((s, RDFS.label, get_label(s)))\n",
    "    g_no_data.add((o, RDFS.label, get_label(o)))\n",
    "\n",
    "g_no_data.bind('bldg',BLDG)"
   ]
  },
  {
   "cell_type": "code",
   "execution_count": 78,
   "id": "9eb32953",
   "metadata": {},
   "outputs": [
    {
     "data": {
      "text/plain": [
       "<Graph identifier=Nedc38380520a4e23ae06241eb7f0b9ae (<class 'rdflib.graph.Graph'>)>"
      ]
     },
     "execution_count": 78,
     "metadata": {},
     "output_type": "execute_result"
    }
   ],
   "source": [
    "g_no_data.serialize(\"brick-example-groups-no-data.ttl\", format = 'ttl')"
   ]
  },
  {
   "cell_type": "code",
   "execution_count": 53,
   "id": "561ba5a9",
   "metadata": {},
   "outputs": [
    {
     "data": {
      "text/plain": [
       "<Graph identifier=fd453114-7cdb-4326-b3a6-5a3d472837e3 (<class 'rdflib.graph.Graph'>)>"
      ]
     },
     "execution_count": 53,
     "metadata": {},
     "output_type": "execute_result"
    }
   ],
   "source": [
    "bldg.add_graph(ctx.compile())\n",
    "bldg.graph.serialize('brick-example.ttl', format = 'ttl')"
   ]
  },
  {
   "cell_type": "code",
   "execution_count": null,
   "id": "3f4c4326",
   "metadata": {},
   "outputs": [],
   "source": []
  },
  {
   "cell_type": "code",
   "execution_count": null,
   "id": "7341da39",
   "metadata": {},
   "outputs": [],
   "source": []
  }
 ],
 "metadata": {
  "kernelspec": {
   "display_name": ".venv",
   "language": "python",
   "name": "python3"
  },
  "language_info": {
   "codemirror_mode": {
    "name": "ipython",
    "version": 3
   },
   "file_extension": ".py",
   "mimetype": "text/x-python",
   "name": "python",
   "nbconvert_exporter": "python",
   "pygments_lexer": "ipython3",
   "version": "-1.-1.-1"
  }
 },
 "nbformat": 4,
 "nbformat_minor": 5
}
