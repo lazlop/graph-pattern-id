{
 "cells": [
  {
   "cell_type": "markdown",
   "id": "2b60b59e",
   "metadata": {},
   "source": [
    "# Example Brick Model for process\n",
    "Example brick model will be 2 AHUs, 60 terminal units.\n",
    "Half are for perimeter zones vavs with reheat, half are for core zones and are cooling only \n",
    "\n",
    "10 core zone terminal units are for mechanical rooms, networking closets, and electrical rooms that must be served 24/7"
   ]
  },
  {
   "cell_type": "code",
   "execution_count": null,
   "id": "956b32c2",
   "metadata": {},
   "outputs": [
    {
     "ename": "",
     "evalue": "",
     "output_type": "error",
     "traceback": [
      "\u001b[1;31mRunning cells with '.venv (Python -1.-1.-1)' requires the ipykernel package.\n",
      "\u001b[1;31mRun the following command to install 'ipykernel' into the Python environment. \n",
      "\u001b[1;31mCommand: '/home/lazlo/Desktop/.venv/bin/python -m pip install ipykernel -U --force-reinstall'"
     ]
    }
   ],
   "source": [
    "from rdflib import Namespace, URIRef, RDFS\n",
    "from buildingmotif import BuildingMOTIF\n",
    "from buildingmotif.dataclasses import Model, Library\n",
    "from buildingmotif.namespaces import BMOTIF, BRICK\n",
    "from buildingmotif.model_builder import TemplateBuilderContext"
   ]
  },
  {
   "cell_type": "code",
   "execution_count": null,
   "id": "1b09afe3",
   "metadata": {},
   "outputs": [],
   "source": [
    "BLDG = Namespace(\"urn:example#\")\n",
    "bm = BuildingMOTIF(\"sqlite://\", \"topquadrant\")\n",
    "bldg = Model.create(\"urn:example#\")\n",
    "bldg.graph.bind('',BLDG)\n",
    "brick = Library.load(ontology_graph=\"Brick.ttl\")"
   ]
  },
  {
   "cell_type": "code",
   "execution_count": null,
   "id": "b6b95f0e",
   "metadata": {},
   "outputs": [],
   "source": [
    "brick_tmpl = Library.load(directory='brick-templates')"
   ]
  },
  {
   "cell_type": "code",
   "execution_count": null,
   "id": "f88c11c0",
   "metadata": {},
   "outputs": [],
   "source": [
    "# start with the tank. This instantiates the template with 'my_tank' as the name\n",
    "# You can assign other parameters here as well. If the value you give to a parameter\n",
    "# is a string (e.g. 'my_tank') then the builder will automatically make a URL with the BLDG (see cell above) as the namespace\n",
    "# ahu = ctx['multiple-zone-ahu'](name='ahu1')\n",
    "# # now create an instance of the water flow property\n",
    "# flow_prop = ctx['water-flow'](name='tank_outlet_water_flow')\n",
    "# flow_prop['name-owner'] = my_tank['out']\n",
    "# # now create the sensor\n",
    "# flow_sensor = ctx['sensor'](name='my_flow_sensor')\n",
    "# flow_sensor['where'] = my_tank['out'] # the sensor measures at the outlet of the tank\n",
    "# flow_sensor['property'] = flow_prop['name'] # associate the sensor's \"property\" param with the flow property"
   ]
  },
  {
   "cell_type": "code",
   "execution_count": null,
   "id": "1d2ed453",
   "metadata": {},
   "outputs": [],
   "source": [
    "# bldg_config\n",
    "# assuming cooling+only and reheat vavs split evenly. Computer spaces are all in the cooling only vavs.\n",
    "# [ahus, cooling_only_vavs_per_ahu, reheat_vavs_per_ahu]\n",
    "# Could add amt computer spaces_per_ahu to building if it serves example later\n",
    "\n",
    "# the context helps us build up our model\n",
    "ctx = TemplateBuilderContext(BLDG)\n",
    "ctx.add_templates_from_library(brick)\n",
    "ctx.add_templates_from_library(brick_tmpl)"
   ]
  },
  {
   "cell_type": "code",
   "execution_count": null,
   "id": "5669029a",
   "metadata": {},
   "outputs": [],
   "source": [
    "bldg_config = {'ahus': 2, 'cv': 10, 'hv': 10}\n",
    "bldg_ctx_dict = {}\n",
    "for i in range(bldg_config['ahus']):\n",
    "    ahu_name = f'ahu_{i}'\n",
    "    # bldg_ctx_dict[name] = ctx['multiple-zone-ahu'](name=name)\n",
    "    ahu = ctx['multiple-zone-ahu'](name=ahu_name)\n",
    "    for cv in range(bldg_config['cv']):\n",
    "        cv_name = f'cvav_{i}_{cv}'\n",
    "        cvav = ctx['vav-cooling-only'](name=cv_name)\n",
    "        ctx['feeds'](name = ahu['name'], target = cvav['name'])\n",
    "    for hv in range(bldg_config['hv']):\n",
    "        hv_name = f'hvav_{i}_{hv}'\n",
    "        hvav = ctx['vav-with-reheat'](name=hv_name)\n",
    "        ctx['feeds'](name = ahu['name'], target = hvav['name'])"
   ]
  },
  {
   "cell_type": "code",
   "execution_count": null,
   "id": "b5959806",
   "metadata": {},
   "outputs": [],
   "source": [
    "bldg.add_graph(ctx.compile())"
   ]
  },
  {
   "cell_type": "code",
   "execution_count": null,
   "id": "b4c3965a",
   "metadata": {},
   "outputs": [],
   "source": [
    "print(bldg.graph.serialize(format='ttl'))"
   ]
  },
  {
   "cell_type": "code",
   "execution_count": null,
   "id": "9b931469",
   "metadata": {},
   "outputs": [],
   "source": [
    "bldg.graph.serialize('brick-example.ttl', format = 'ttl')"
   ]
  },
  {
   "cell_type": "code",
   "execution_count": null,
   "id": "b3a56f02",
   "metadata": {},
   "outputs": [],
   "source": []
  }
 ],
 "metadata": {
  "kernelspec": {
   "display_name": ".venv",
   "language": "python",
   "name": "python3"
  },
  "language_info": {
   "codemirror_mode": {
    "name": "ipython",
    "version": 3
   },
   "file_extension": ".py",
   "mimetype": "text/x-python",
   "name": "python",
   "nbconvert_exporter": "python",
   "pygments_lexer": "ipython3",
   "version": "-1.-1.-1"
  }
 },
 "nbformat": 4,
 "nbformat_minor": 5
}
