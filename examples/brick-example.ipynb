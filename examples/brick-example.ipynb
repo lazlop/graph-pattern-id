{
 "cells": [
  {
   "cell_type": "markdown",
   "id": "2b60b59e",
   "metadata": {},
   "source": [
    "# Example Brick Model for process\n",
    "Example brick model will be 2 AHUs, 60 terminal units.\n",
    "Half are for perimeter zones vavs with reheat, half are for core zones and are cooling only \n",
    "\n",
    "10 core zone terminal units are for mechanical rooms, networking closets, and electrical rooms that must be served 24/7"
   ]
  },
  {
   "cell_type": "code",
   "execution_count": 1,
   "id": "956b32c2",
   "metadata": {},
   "outputs": [],
   "source": [
    "from rdflib import Namespace, URIRef, RDFS\n",
    "from buildingmotif import BuildingMOTIF\n",
    "from buildingmotif.dataclasses import Model, Library\n",
    "from buildingmotif.namespaces import BMOTIF, BRICK\n",
    "from buildingmotif.model_builder import TemplateBuilderContext"
   ]
  },
  {
   "cell_type": "code",
   "execution_count": 2,
   "id": "1b09afe3",
   "metadata": {},
   "outputs": [
    {
     "name": "stderr",
     "output_type": "stream",
     "text": [
      "2025-07-03 14:07:45,809 | root |  WARNING: An ontology could not resolve a dependency on http://qudt.org/2.1/vocab/prefix (Name: http://qudt.org/2.1/vocab/prefix). Check this is loaded into BuildingMOTIF\n",
      "2025-07-03 14:07:45,810 | root |  WARNING: An ontology could not resolve a dependency on http://qudt.org/2.1/vocab/unit (Name: http://qudt.org/2.1/vocab/unit). Check this is loaded into BuildingMOTIF\n",
      "2025-07-03 14:07:45,810 | root |  WARNING: An ontology could not resolve a dependency on http://qudt.org/2.1/collection/usertest (Name: http://qudt.org/2.1/collection/usertest). Check this is loaded into BuildingMOTIF\n",
      "2025-07-03 14:07:45,811 | root |  WARNING: An ontology could not resolve a dependency on https://w3id.org/rec/recimports (Name: https://w3id.org/rec/recimports). Check this is loaded into BuildingMOTIF\n",
      "2025-07-03 14:07:45,811 | root |  WARNING: An ontology could not resolve a dependency on http://qudt.org/2.1/schema/shacl/overlay/qudt (Name: http://qudt.org/2.1/schema/shacl/overlay/qudt). Check this is loaded into BuildingMOTIF\n",
      "2025-07-03 14:07:45,812 | root |  WARNING: An ontology could not resolve a dependency on https://brickschema.org/schema/Brick/ref (Name: https://brickschema.org/schema/Brick/ref). Check this is loaded into BuildingMOTIF\n",
      "2025-07-03 14:07:45,812 | root |  WARNING: An ontology could not resolve a dependency on https://w3id.org/rec (Name: https://w3id.org/rec). Check this is loaded into BuildingMOTIF\n",
      "2025-07-03 14:07:45,812 | root |  WARNING: An ontology could not resolve a dependency on http://data.ashrae.org/bacnet/2020 (Name: http://data.ashrae.org/bacnet/2020). Check this is loaded into BuildingMOTIF\n",
      "2025-07-03 14:07:45,813 | root |  WARNING: An ontology could not resolve a dependency on http://qudt.org/2.1/schema/facade/qudt (Name: http://qudt.org/2.1/schema/facade/qudt). Check this is loaded into BuildingMOTIF\n",
      "2025-07-03 14:07:45,813 | root |  WARNING: An ontology could not resolve a dependency on http://qudt.org/2.1/vocab/quantitykind (Name: http://qudt.org/2.1/vocab/quantitykind). Check this is loaded into BuildingMOTIF\n",
      "2025-07-03 14:07:45,813 | root |  WARNING: An ontology could not resolve a dependency on http://qudt.org/2.1/vocab/dimensionvector (Name: http://qudt.org/2.1/vocab/dimensionvector). Check this is loaded into BuildingMOTIF\n",
      "2025-07-03 14:07:45,814 | root |  WARNING: An ontology could not resolve a dependency on http://qudt.org/2.1/vocab/sou (Name: http://qudt.org/2.1/vocab/sou). Check this is loaded into BuildingMOTIF\n",
      "2025-07-03 14:07:45,814 | root |  WARNING: An ontology could not resolve a dependency on http://qudt.org/2.1/schema/shacl/qudt (Name: http://qudt.org/2.1/schema/shacl/qudt). Check this is loaded into BuildingMOTIF\n"
     ]
    }
   ],
   "source": [
    "BLDG = Namespace(\"urn:example#\")\n",
    "bm = BuildingMOTIF(\"sqlite://\", \"topquadrant\")\n",
    "bldg = Model.create(\"urn:example#\")\n",
    "bldg.graph.bind('',BLDG)\n",
    "brick = Library.load(ontology_graph=\"Brick.ttl\")"
   ]
  },
  {
   "cell_type": "code",
   "execution_count": 3,
   "id": "b6b95f0e",
   "metadata": {},
   "outputs": [],
   "source": [
    "brick_tmpl = Library.load(directory='brick-templates')"
   ]
  },
  {
   "cell_type": "code",
   "execution_count": 4,
   "id": "f88c11c0",
   "metadata": {},
   "outputs": [],
   "source": [
    "# start with the tank. This instantiates the template with 'my_tank' as the name\n",
    "# You can assign other parameters here as well. If the value you give to a parameter\n",
    "# is a string (e.g. 'my_tank') then the builder will automatically make a URL with the BLDG (see cell above) as the namespace\n",
    "# ahu = ctx['multiple-zone-ahu'](name='ahu1')\n",
    "# # now create an instance of the water flow property\n",
    "# flow_prop = ctx['water-flow'](name='tank_outlet_water_flow')\n",
    "# flow_prop['name-owner'] = my_tank['out']\n",
    "# # now create the sensor\n",
    "# flow_sensor = ctx['sensor'](name='my_flow_sensor')\n",
    "# flow_sensor['where'] = my_tank['out'] # the sensor measures at the outlet of the tank\n",
    "# flow_sensor['property'] = flow_prop['name'] # associate the sensor's \"property\" param with the flow property"
   ]
  },
  {
   "cell_type": "code",
   "execution_count": 11,
   "id": "1d2ed453",
   "metadata": {},
   "outputs": [
    {
     "data": {
      "text/plain": [
       "[4]"
      ]
     },
     "execution_count": 11,
     "metadata": {},
     "output_type": "execute_result"
    }
   ],
   "source": [
    "# bldg_config\n",
    "# assuming cooling+only and reheat vavs split evenly. Computer spaces are all in the cooling only vavs.\n",
    "# [ahus, cooling_only_vavs_per_ahu, reheat_vavs_per_ahu]\n",
    "# Could add amt computer spaces_per_ahu to building if it serves example later\n",
    "\n",
    "# the context helps us build up our model\n",
    "ctx = TemplateBuilderContext(BLDG)\n",
    "ctx.add_templates_from_library(brick)\n",
    "ctx.add_templates_from_library(brick_tmpl)\n",
    "[4,]"
   ]
  },
  {
   "cell_type": "code",
   "execution_count": 12,
   "id": "5669029a",
   "metadata": {},
   "outputs": [],
   "source": [
    "bldg_config = {'ahus': 2, 'cv': 0, 'hv': 0}\n",
    "bldg_ctx_dict = {}\n",
    "for i in range(bldg_config['ahus']):\n",
    "    ahu_name = f'ahu_{i}'\n",
    "    # bldg_ctx_dict[name] = ctx['multiple-zone-ahu'](name=name)\n",
    "    ahu = ctx['multiple-zone-ahu'](name=ahu_name)\n",
    "    for cv in range(bldg_config['cv']):\n",
    "        cv_name = f'cvav_{i}_{cv}'\n",
    "        cvav = ctx['vav-cooling-only'](name=cv_name)\n",
    "        ctx['feeds'](name = ahu['name'], target = cvav['name'])\n",
    "    for hv in range(bldg_config['hv']):\n",
    "        hv_name = f'hvav_{i}_{hv}'\n",
    "        hvav = ctx['vav-with-reheat'](name=hv_name)\n",
    "        ctx['feeds'](name = ahu['name'], target = hvav['name'])"
   ]
  },
  {
   "cell_type": "code",
   "execution_count": 13,
   "id": "b5959806",
   "metadata": {},
   "outputs": [],
   "source": [
    "bldg.add_graph(ctx.compile())"
   ]
  },
  {
   "cell_type": "code",
   "execution_count": 14,
   "id": "b4c3965a",
   "metadata": {},
   "outputs": [
    {
     "name": "stdout",
     "output_type": "stream",
     "text": [
      "@prefix : <urn:example#> .\n",
      "@prefix brick: <https://brickschema.org/schema/Brick#> .\n",
      "@prefix owl: <http://www.w3.org/2002/07/owl#> .\n",
      "@prefix rdfs: <http://www.w3.org/2000/01/rdf-schema#> .\n",
      "\n",
      ": a owl:Ontology .\n",
      "\n",
      ":ahu_0 a brick:AHU ;\n",
      "    rdfs:label \"AHU\" ;\n",
      "    brick:hasPart :clg_coil_2975c1fc,\n",
      "        :clg_coil_907263d9,\n",
      "        :htg_coil_8880e655,\n",
      "        :htg_coil_ae981a4e,\n",
      "        :ra_damper_624e6aa8,\n",
      "        :ra_damper_c22e0d3a,\n",
      "        :sa_fan_1592d24b,\n",
      "        :sa_fan_db75c482 ;\n",
      "    brick:hasPoint :oa_temp_1bab1b43,\n",
      "        :oa_temp_8c33cae6,\n",
      "        :sa_temp_1f895fab,\n",
      "        :sa_temp_c3da4f40 .\n",
      "\n",
      ":ahu_1 a brick:AHU ;\n",
      "    rdfs:label \"AHU\" ;\n",
      "    brick:hasPart :clg_coil_fbf5417f,\n",
      "        :htg_coil_c00ba1af,\n",
      "        :ra_damper_6195dca3,\n",
      "        :sa_fan_c8f277ec ;\n",
      "    brick:hasPoint :oa_temp_98e17afd,\n",
      "        :sa_temp_b5f0cbef .\n",
      "\n",
      ":clg_coil-valve_cmd_428411f9 a brick:Valve_Position_Command ;\n",
      "    rdfs:label \"Valve_Position_Command\" .\n",
      "\n",
      ":clg_coil-valve_cmd_62625e70 a brick:Valve_Position_Command ;\n",
      "    rdfs:label \"Valve_Position_Command\" .\n",
      "\n",
      ":clg_coil-valve_cmd_b6b111da a brick:Valve_Position_Command ;\n",
      "    rdfs:label \"Valve_Position_Command\" .\n",
      "\n",
      ":clg_coil_2975c1fc a brick:Cooling_Coil ;\n",
      "    rdfs:label \"Cooling_Coil\" ;\n",
      "    brick:hasPoint :clg_coil-valve_cmd_62625e70 .\n",
      "\n",
      ":clg_coil_907263d9 a brick:Cooling_Coil ;\n",
      "    rdfs:label \"Cooling_Coil\" ;\n",
      "    brick:hasPoint :clg_coil-valve_cmd_b6b111da .\n",
      "\n",
      ":clg_coil_fbf5417f a brick:Cooling_Coil ;\n",
      "    rdfs:label \"Cooling_Coil\" ;\n",
      "    brick:hasPoint :clg_coil-valve_cmd_428411f9 .\n",
      "\n",
      ":htg_coil-valve_cmd_07530a15 a brick:Valve_Position_Command ;\n",
      "    rdfs:label \"Valve_Position_Command\" .\n",
      "\n",
      ":htg_coil-valve_cmd_43a07efd a brick:Valve_Position_Command ;\n",
      "    rdfs:label \"Valve_Position_Command\" .\n",
      "\n",
      ":htg_coil-valve_cmd_f898e161 a brick:Valve_Position_Command ;\n",
      "    rdfs:label \"Valve_Position_Command\" .\n",
      "\n",
      ":htg_coil_8880e655 a brick:Heating_Coil ;\n",
      "    rdfs:label \"Heating_Coil\" ;\n",
      "    brick:hasPoint :htg_coil-valve_cmd_43a07efd .\n",
      "\n",
      ":htg_coil_ae981a4e a brick:Heating_Coil ;\n",
      "    rdfs:label \"Heating_Coil\" ;\n",
      "    brick:hasPoint :htg_coil-valve_cmd_f898e161 .\n",
      "\n",
      ":htg_coil_c00ba1af a brick:Heating_Coil ;\n",
      "    rdfs:label \"Heating_Coil\" ;\n",
      "    brick:hasPoint :htg_coil-valve_cmd_07530a15 .\n",
      "\n",
      ":oa_temp_1bab1b43 a brick:Outside_Air_Temperature_Sensor ;\n",
      "    rdfs:label \"Outside_Air_Temperature_Sensor\" .\n",
      "\n",
      ":oa_temp_8c33cae6 a brick:Outside_Air_Temperature_Sensor ;\n",
      "    rdfs:label \"Outside_Air_Temperature_Sensor\" .\n",
      "\n",
      ":oa_temp_98e17afd a brick:Outside_Air_Temperature_Sensor ;\n",
      "    rdfs:label \"Outside_Air_Temperature_Sensor\" .\n",
      "\n",
      ":ra_damper-dmppos_61288c20 a brick:Damper_Position_Command ;\n",
      "    rdfs:label \"Damper_Position_Command\" .\n",
      "\n",
      ":ra_damper-dmppos_7f5d4c9e a brick:Damper_Position_Command ;\n",
      "    rdfs:label \"Damper_Position_Command\" .\n",
      "\n",
      ":ra_damper-dmppos_d0abe1a5 a brick:Damper_Position_Command ;\n",
      "    rdfs:label \"Damper_Position_Command\" .\n",
      "\n",
      ":ra_damper_6195dca3 a brick:Damper ;\n",
      "    rdfs:label \"Damper\" ;\n",
      "    brick:hasPoint :ra_damper-dmppos_61288c20 .\n",
      "\n",
      ":ra_damper_624e6aa8 a brick:Damper ;\n",
      "    rdfs:label \"Damper\" ;\n",
      "    brick:hasPoint :ra_damper-dmppos_d0abe1a5 .\n",
      "\n",
      ":ra_damper_c22e0d3a a brick:Damper ;\n",
      "    rdfs:label \"Damper\" ;\n",
      "    brick:hasPoint :ra_damper-dmppos_7f5d4c9e .\n",
      "\n",
      ":sa_fan-speed_0fe554fa a brick:Frequency_Command ;\n",
      "    rdfs:label \"Frequency_Command\" .\n",
      "\n",
      ":sa_fan-speed_41403413 a brick:Frequency_Command ;\n",
      "    rdfs:label \"Frequency_Command\" .\n",
      "\n",
      ":sa_fan-speed_57425619 a brick:Frequency_Command ;\n",
      "    rdfs:label \"Frequency_Command\" .\n",
      "\n",
      ":sa_fan-start_stop_34d6ed5e a brick:Start_Stop_Command ;\n",
      "    rdfs:label \"Start_Stop_Command\" .\n",
      "\n",
      ":sa_fan-start_stop_948dc3f1 a brick:Start_Stop_Command ;\n",
      "    rdfs:label \"Start_Stop_Command\" .\n",
      "\n",
      ":sa_fan-start_stop_b23e866d a brick:Start_Stop_Command ;\n",
      "    rdfs:label \"Start_Stop_Command\" .\n",
      "\n",
      ":sa_fan_1592d24b a brick:Supply_Fan ;\n",
      "    rdfs:label \"Supply_Fan\" ;\n",
      "    brick:hasPoint :sa_fan-speed_57425619,\n",
      "        :sa_fan-start_stop_34d6ed5e .\n",
      "\n",
      ":sa_fan_c8f277ec a brick:Supply_Fan ;\n",
      "    rdfs:label \"Supply_Fan\" ;\n",
      "    brick:hasPoint :sa_fan-speed_41403413,\n",
      "        :sa_fan-start_stop_948dc3f1 .\n",
      "\n",
      ":sa_fan_db75c482 a brick:Supply_Fan ;\n",
      "    rdfs:label \"Supply_Fan\" ;\n",
      "    brick:hasPoint :sa_fan-speed_0fe554fa,\n",
      "        :sa_fan-start_stop_b23e866d .\n",
      "\n",
      ":sa_temp_1f895fab a brick:Supply_Air_Temperature_Sensor ;\n",
      "    rdfs:label \"Supply_Air_Temperature_Sensor\" .\n",
      "\n",
      ":sa_temp_b5f0cbef a brick:Supply_Air_Temperature_Sensor ;\n",
      "    rdfs:label \"Supply_Air_Temperature_Sensor\" .\n",
      "\n",
      ":sa_temp_c3da4f40 a brick:Supply_Air_Temperature_Sensor ;\n",
      "    rdfs:label \"Supply_Air_Temperature_Sensor\" .\n",
      "\n",
      "\n"
     ]
    }
   ],
   "source": [
    "print(bldg.graph.serialize(format='ttl'))"
   ]
  },
  {
   "cell_type": "code",
   "execution_count": 15,
   "id": "9b931469",
   "metadata": {},
   "outputs": [
    {
     "data": {
      "text/plain": [
       "<Graph identifier=d58ab3df-3f76-4331-83de-104de488454f (<class 'rdflib.graph.Graph'>)>"
      ]
     },
     "execution_count": 15,
     "metadata": {},
     "output_type": "execute_result"
    }
   ],
   "source": [
    "bldg.graph.serialize('brick-example.ttl', format = 'ttl')"
   ]
  },
  {
   "cell_type": "code",
   "execution_count": null,
   "id": "8fa9a801",
   "metadata": {},
   "outputs": [],
   "source": []
  }
 ],
 "metadata": {
  "kernelspec": {
   "display_name": "graph-pattern-id (3.10.0)",
   "language": "python",
   "name": "python3"
  },
  "language_info": {
   "codemirror_mode": {
    "name": "ipython",
    "version": 3
   },
   "file_extension": ".py",
   "mimetype": "text/x-python",
   "name": "python",
   "nbconvert_exporter": "python",
   "pygments_lexer": "ipython3",
   "version": "3.10.0"
  }
 },
 "nbformat": 4,
 "nbformat_minor": 5
}
